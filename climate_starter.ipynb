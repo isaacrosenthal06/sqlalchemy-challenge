{
 "cells": [
  {
   "cell_type": "code",
   "execution_count": null,
   "metadata": {},
   "outputs": [],
   "source": [
    "%matplotlib inline\n",
    "from matplotlib import style\n",
    "style.use('fivethirtyeight')\n",
    "import matplotlib.pyplot as plt\n",
    "from dateutil.relativedelta import *"
   ]
  },
  {
   "cell_type": "code",
   "execution_count": null,
   "metadata": {},
   "outputs": [],
   "source": [
    "import numpy as np\n",
    "import pandas as pd\n",
    "import datetime as dt"
   ]
  },
  {
   "cell_type": "markdown",
   "metadata": {},
   "source": [
    "# Reflect Tables into SQLAlchemy ORM"
   ]
  },
  {
   "cell_type": "code",
   "execution_count": null,
   "metadata": {},
   "outputs": [],
   "source": [
    "# Python SQL toolkit and Object Relational Mapper\n",
    "import sqlalchemy\n",
    "from sqlalchemy.ext.automap import automap_base\n",
    "from sqlalchemy.orm import Session\n",
    "from sqlalchemy import create_engine, func"
   ]
  },
  {
   "cell_type": "code",
   "execution_count": null,
   "metadata": {},
   "outputs": [],
   "source": [
    "# create engine to hawaii.sqlite\n",
    "engine = create_engine(\"sqlite:///hawaii.sqlite\")"
   ]
  },
  {
   "cell_type": "code",
   "execution_count": null,
   "metadata": {},
   "outputs": [],
   "source": [
    "# reflect an existing database into a new model\n",
    "Base = automap_base()\n",
    "\n",
    "\n",
    "# reflect the tables\n",
    "Base.prepare(engine, reflect=True)"
   ]
  },
  {
   "cell_type": "code",
   "execution_count": null,
   "metadata": {
    "scrolled": true
   },
   "outputs": [],
   "source": [
    "# View all of the classes that automap found\n",
    "Base.classes.keys()"
   ]
  },
  {
   "cell_type": "code",
   "execution_count": null,
   "metadata": {},
   "outputs": [],
   "source": [
    "# Save references to each table\n",
    "measurement = Base.classes.measurement\n",
    "station = Base.classes.station"
   ]
  },
  {
   "cell_type": "code",
   "execution_count": null,
   "metadata": {},
   "outputs": [],
   "source": [
    "# Create our session (link) from Python to the DB\n",
    "session = Session(engine)"
   ]
  },
  {
   "cell_type": "markdown",
   "metadata": {},
   "source": [
    "# Exploratory Precipitation Analysis"
   ]
  },
  {
   "cell_type": "code",
   "execution_count": null,
   "metadata": {},
   "outputs": [],
   "source": [
    "# Find the most recent date in the data set.\n",
    "test = session.query(measurement.date).order_by(measurement.date.desc()).limit(1)\n",
    "for row in test:\n",
    "    print(row[0])\n",
    "\n",
    "#measurement.__dict__"
   ]
  },
  {
   "cell_type": "code",
   "execution_count": null,
   "metadata": {},
   "outputs": [],
   "source": [
    "# Design a query to retrieve the last 12 months of precipitation data and plot the results. \n",
    "# Starting from the most recent data point in the database. \n",
    "\n",
    "\n",
    "\n",
    "\n",
    "# Calculate the date one year from the last date in data set.\n",
    "twelvemonthsago = dt.datetime(2017, 8, 23) - relativedelta(months=+12)\n",
    "print(twelvemonthsago)\n",
    "\n",
    "# Perform a query to retrieve the data and precipitation scores\n",
    "#date = dt.datetime(2011, 1, 1)\n",
    "annual_prcp = session.query(measurement.date, measurement.prcp).\\\n",
    "                  filter(measurement.date >= dt.datetime(2016, 8, 23, 0)).all()\n",
    "dates = []\n",
    "prcp = []\n",
    "for row in annual_prcp:\n",
    "    dates.append(row[0])\n",
    "    prcp.append(row[1])\n",
    "\n",
    "#print(prcp_dic)\n",
    "\n",
    "prcp_dic = {'Date' : dates, 'Percipitation' : prcp}\n",
    "# Save the query results as a Pandas DataFrame and set the index to the date column\n",
    "prcp_df = pd.DataFrame(prcp_dic)\n",
    "\n",
    "prcp_df.head()\n",
    "\n",
    "\n",
    "\n",
    "# Sort the dataframe by date\n",
    "\n",
    "sorted_prcp_df = prcp_df.sort_values(by='Date')\n",
    "sorted_prcp_df.plot(kind='line', x='Date', y='Percipitation', grid = True, ylabel = \"Inches\", rot = 90, title = \"Last Twelve Months: Percipitation in Hawaii\")\n",
    "\n",
    "\n",
    "# Use Pandas Plotting with Matplotlib to plot the data\n",
    "\n",
    "#plt.plot(sorted_prcp_df.iloc[:,0], sorted_prcp_df.iloc[:,1], label = \"Percipitation\")\n",
    "#plt.legend(loc='best')\n",
    "\n",
    "#plt.title('Percipitation in Hawaii for Last Twelve Months')\n",
    "#plt.xlabel('Inches')\n",
    "#plt.xticks(np.arange())\n",
    "#plt.ylabel('Date')\n",
    "\n",
    "plt.show()\n",
    "\n"
   ]
  },
  {
   "cell_type": "code",
   "execution_count": null,
   "metadata": {},
   "outputs": [],
   "source": [
    "# Use Pandas to calcualte the summary statistics for the precipitation data\n",
    "print(sorted_prcp_df.describe())\n"
   ]
  },
  {
   "cell_type": "markdown",
   "metadata": {},
   "source": [
    "# Exploratory Station Analysis"
   ]
  },
  {
   "cell_type": "code",
   "execution_count": null,
   "metadata": {},
   "outputs": [],
   "source": [
    "session.query(measurement.station, station.station).limit(100).all()"
   ]
  },
  {
   "cell_type": "code",
   "execution_count": null,
   "metadata": {},
   "outputs": [],
   "source": [
    "sel = [measurement.date, measurement.prcp, station.station, station.id, station.name, station.latitude, station.longitude, station.elevation]\n",
    "combined_stations = session.query(measurement, station).filter(measurement.station == station.station)"
   ]
  },
  {
   "cell_type": "code",
   "execution_count": null,
   "metadata": {},
   "outputs": [],
   "source": [
    "# Design a query to calculate the total number stations in the dataset\n",
    "total_stations = session.query(measurement, station).\\\n",
    "    filter(measurement.station == station.station).\\\n",
    "    group_by(station.id).count()\n",
    "print(total_stations)\n",
    "\n",
    "#station.__dict__"
   ]
  },
  {
   "cell_type": "code",
   "execution_count": null,
   "metadata": {},
   "outputs": [],
   "source": [
    "#most active station id\n",
    "\n",
    "active_station = session.query(station.id).\\\n",
    "    filter(measurement.station == station.station).\\\n",
    "    group_by(station.name).\\\n",
    "    order_by(func.count(station.id).desc()).limit(1)\n",
    "\n",
    "for row in active_station:\n",
    "    print(row)\n",
    "\n",
    "# Design a query to find the most active stations (i.e. what stations have the most rows?)\n",
    "test = session.query(station.name, station.id, func.count(measurement.station)).\\\n",
    "    filter(measurement.station == station.station).\\\n",
    "    group_by(station.name).\\\n",
    "    order_by(func.count(station.id).desc()).all()\n",
    "# List the stations and the counts in descending order.\n",
    "for row in test:\n",
    "    print(row)\n"
   ]
  },
  {
   "cell_type": "code",
   "execution_count": null,
   "metadata": {},
   "outputs": [],
   "source": [
    "# Using the most active station id from the previous query, calculate the lowest, highest, and average temperature.\n",
    "temp_measures = session.query(func.min(measurement.tobs), func.max(measurement.tobs), func.avg(measurement.tobs)).\\\n",
    "    filter(measurement.station == station.station).\\\n",
    "    filter(station.name == 'WAIHEE 837.5, HI US').all()\n",
    "for row in temp_measures:\n",
    "    print(row)\n"
   ]
  },
  {
   "cell_type": "code",
   "execution_count": null,
   "metadata": {},
   "outputs": [],
   "source": [
    "# Using the most active station id\n",
    "# Query the last 12 months of temperature observation data for this station and plot the results as a histogram\n",
    "temp_twelve_month = session.query(measurement.tobs).\\\n",
    "    filter(measurement.date >= dt.datetime(2016, 8, 23, 0)).\\\n",
    "    filter(measurement.station == station.station).\\\n",
    "    filter(station.name == 'WAIHEE 837.5, HI US').all()\n",
    "\n",
    "temp_twelve_month\n",
    "\n",
    "temp_df = pd.DataFrame(temp_twelve_month)\n",
    "temp_df = temp_df.rename(columns={'tobs':'Temperature'})\n",
    "temp_df.head()\n",
    "\n",
    "temp_df['Frequency'] = temp_df.groupby(['Temperature'])['Temperature'].transform('count')\n",
    "temp_df.head()\n",
    "\n",
    "\n",
    "\n",
    "\n",
    "\n",
    "\n",
    "\n",
    "\n",
    "\n",
    "\n",
    "\n",
    "\n",
    "\n",
    "\n",
    "\n",
    "bins = 12\n",
    "plt.hist(temp_df['Temperature'], bins, density= 1)\n",
    "plt.xlabel('Temperature')\n",
    "plt.ylabel('Frequency')\n",
    "\n",
    "\n"
   ]
  },
  {
   "cell_type": "markdown",
   "metadata": {},
   "source": [
    "# Close session"
   ]
  },
  {
   "cell_type": "code",
   "execution_count": null,
   "metadata": {},
   "outputs": [],
   "source": [
    "# Close Session\n",
    "session.close()"
   ]
  },
  {
   "cell_type": "code",
   "execution_count": null,
   "metadata": {},
   "outputs": [],
   "source": []
  }
 ],
 "metadata": {
  "anaconda-cloud": {},
  "kernel_info": {
   "name": "python3"
  },
  "kernelspec": {
   "display_name": "Python 3 (ipykernel)",
   "language": "python",
   "name": "python3"
  },
  "language_info": {
   "codemirror_mode": {
    "name": "ipython",
    "version": 3
   },
   "file_extension": ".py",
   "mimetype": "text/x-python",
   "name": "python",
   "nbconvert_exporter": "python",
   "pygments_lexer": "ipython3",
   "version": "3.9.7"
  },
  "nteract": {
   "version": "0.12.3"
  },
  "varInspector": {
   "cols": {
    "lenName": 16,
    "lenType": 16,
    "lenVar": 40
   },
   "kernels_config": {
    "python": {
     "delete_cmd_postfix": "",
     "delete_cmd_prefix": "del ",
     "library": "var_list.py",
     "varRefreshCmd": "print(var_dic_list())"
    },
    "r": {
     "delete_cmd_postfix": ") ",
     "delete_cmd_prefix": "rm(",
     "library": "var_list.r",
     "varRefreshCmd": "cat(var_dic_list()) "
    }
   },
   "types_to_exclude": [
    "module",
    "function",
    "builtin_function_or_method",
    "instance",
    "_Feature"
   ],
   "window_display": false
  }
 },
 "nbformat": 4,
 "nbformat_minor": 2
}
